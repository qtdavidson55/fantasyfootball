{
 "cells": [
  {
   "cell_type": "code",
   "execution_count": 76,
   "metadata": {},
   "outputs": [
    {
     "name": "stdout",
     "output_type": "stream",
     "text": [
      "setup complete\n"
     ]
    }
   ],
   "source": [
    "import pandas as pd\n",
    "import numpy as np\n",
    "pd.plotting.register_matplotlib_converters()\n",
    "import matplotlib.pyplot as plt\n",
    "%matplotlib inline\n",
    "import seaborn as sns\n",
    "print(\"setup complete\")"
   ]
  },
  {
   "cell_type": "code",
   "execution_count": null,
   "metadata": {},
   "outputs": [],
   "source": []
  },
  {
   "cell_type": "code",
   "execution_count": 87,
   "metadata": {},
   "outputs": [],
   "source": [
    "df = pd.read_csv('datasets/fantasy_2019.csv')\n",
    "df.rename({\n",
    "    'TD': \"PassingTD\",\n",
    "    'TD.1': 'RushingTD',\n",
    "    'TD.2': 'ReceivingTD',\n",
    "    'TD.3': 'TotalTD',\n",
    "    'Yds': 'PassingYDs',\n",
    "    'Yds.1': 'RushingYDs',\n",
    "    'Yds.2': 'ReceivingYDs',\n",
    "    'Att': 'PassingAtt',\n",
    "    'Att.1': 'RushingAtt'\n",
    "    \n",
    "    \n",
    "}, axis=1, inplace=True)\n",
    "df['Player'] = df['Player'].apply(lambda x: x.split('*')[0]).apply(lambda x: x.split('\\\\')[0])\n",
    "# df.drop(['Unnamed: 0'], axis=1, inplace=True)\n",
    "convert = {\n",
    "    'Age': 'int64',\n",
    "    'G': 'int64',\n",
    "    'GS': 'int64',\n",
    "    'Cmp': 'int64',\n",
    "    'PassingAtt': 'int64',\n",
    "    'PassingTD': 'int64',\n",
    "    'Int': 'int64',\n",
    "    'RushingAtt': 'int64',\n",
    "    'Y/A': 'int64',\n",
    "    'RushingTD': 'int64',\n",
    "    'Tgt': 'int64',\n",
    "    'Rec': 'int64',\n",
    "    'ReceivingTD': 'int64',\n",
    "    'Fmb': 'int64',\n",
    "    'FL': 'int64',\n",
    "    'TotalTD': 'int64',\n",
    "    'PosRank': 'int64',\n",
    "    'OvRank': 'int64'\n",
    "}\n",
    "df = df.astype(convert)\n",
    "#df.dtypes"
   ]
  },
  {
   "cell_type": "code",
   "execution_count": 88,
   "metadata": {},
   "outputs": [],
   "source": [
    "df_rb = df[df['FantPos'] == 'RB']\n",
    "df_qb = df[df['FantPos'] == 'QB']\n",
    "df_wr = df[df['FantPos'] == 'WR']\n",
    "df_te = df[df['FantPos'] == 'TE']"
   ]
  },
  {
   "cell_type": "code",
   "execution_count": 89,
   "metadata": {},
   "outputs": [],
   "source": [
    "rushing_col = ['RushingAtt', 'RushingYDs', 'Y/A', 'RushingTD']\n",
    "receiving_col = ['Tgt', 'Rec', 'ReceivingYDs', 'Y/R', 'ReceivingTD']\n",
    "passing_col = ['PassingAtt', 'PassingYDs', 'PassingTD', 'Int']\n",
    "\n",
    "def transform_columns(df, new_column_list):\n",
    "    df = df[['Player', 'Tm', 'Age', 'G'] + new_column_list + ['FL', 'PPR']]\n",
    "    return df"
   ]
  },
  {
   "cell_type": "code",
   "execution_count": 90,
   "metadata": {},
   "outputs": [
    {
     "data": {
      "text/html": [
       "<div>\n",
       "<style scoped>\n",
       "    .dataframe tbody tr th:only-of-type {\n",
       "        vertical-align: middle;\n",
       "    }\n",
       "\n",
       "    .dataframe tbody tr th {\n",
       "        vertical-align: top;\n",
       "    }\n",
       "\n",
       "    .dataframe thead th {\n",
       "        text-align: right;\n",
       "    }\n",
       "</style>\n",
       "<table border=\"1\" class=\"dataframe\">\n",
       "  <thead>\n",
       "    <tr style=\"text-align: right;\">\n",
       "      <th></th>\n",
       "      <th>Player</th>\n",
       "      <th>Tm</th>\n",
       "      <th>Age</th>\n",
       "      <th>G</th>\n",
       "      <th>Tgt</th>\n",
       "      <th>Rec</th>\n",
       "      <th>ReceivingYDs</th>\n",
       "      <th>Y/R</th>\n",
       "      <th>ReceivingTD</th>\n",
       "      <th>FL</th>\n",
       "      <th>PPR</th>\n",
       "    </tr>\n",
       "  </thead>\n",
       "  <tbody>\n",
       "    <tr>\n",
       "      <th>7</th>\n",
       "      <td>Travis Kelce</td>\n",
       "      <td>KAN</td>\n",
       "      <td>30</td>\n",
       "      <td>16</td>\n",
       "      <td>136</td>\n",
       "      <td>97</td>\n",
       "      <td>1229.0</td>\n",
       "      <td>12.67</td>\n",
       "      <td>5</td>\n",
       "      <td>1</td>\n",
       "      <td>254.3</td>\n",
       "    </tr>\n",
       "    <tr>\n",
       "      <th>12</th>\n",
       "      <td>Mark Andrews</td>\n",
       "      <td>BAL</td>\n",
       "      <td>23</td>\n",
       "      <td>15</td>\n",
       "      <td>98</td>\n",
       "      <td>64</td>\n",
       "      <td>852.0</td>\n",
       "      <td>13.31</td>\n",
       "      <td>10</td>\n",
       "      <td>1</td>\n",
       "      <td>207.2</td>\n",
       "    </tr>\n",
       "    <tr>\n",
       "      <th>15</th>\n",
       "      <td>George Kittle</td>\n",
       "      <td>SFO</td>\n",
       "      <td>26</td>\n",
       "      <td>14</td>\n",
       "      <td>107</td>\n",
       "      <td>85</td>\n",
       "      <td>1053.0</td>\n",
       "      <td>12.39</td>\n",
       "      <td>5</td>\n",
       "      <td>0</td>\n",
       "      <td>222.5</td>\n",
       "    </tr>\n",
       "    <tr>\n",
       "      <th>18</th>\n",
       "      <td>Darren Waller</td>\n",
       "      <td>OAK</td>\n",
       "      <td>27</td>\n",
       "      <td>16</td>\n",
       "      <td>117</td>\n",
       "      <td>90</td>\n",
       "      <td>1145.0</td>\n",
       "      <td>12.72</td>\n",
       "      <td>3</td>\n",
       "      <td>1</td>\n",
       "      <td>221.0</td>\n",
       "    </tr>\n",
       "    <tr>\n",
       "      <th>21</th>\n",
       "      <td>Zach Ertz</td>\n",
       "      <td>PHI</td>\n",
       "      <td>29</td>\n",
       "      <td>15</td>\n",
       "      <td>135</td>\n",
       "      <td>88</td>\n",
       "      <td>916.0</td>\n",
       "      <td>10.41</td>\n",
       "      <td>6</td>\n",
       "      <td>1</td>\n",
       "      <td>215.6</td>\n",
       "    </tr>\n",
       "  </tbody>\n",
       "</table>\n",
       "</div>"
      ],
      "text/plain": [
       "           Player   Tm  Age   G  Tgt  Rec  ReceivingYDs    Y/R  ReceivingTD  \\\n",
       "7    Travis Kelce  KAN   30  16  136   97        1229.0  12.67            5   \n",
       "12   Mark Andrews  BAL   23  15   98   64         852.0  13.31           10   \n",
       "15  George Kittle  SFO   26  14  107   85        1053.0  12.39            5   \n",
       "18  Darren Waller  OAK   27  16  117   90        1145.0  12.72            3   \n",
       "21      Zach Ertz  PHI   29  15  135   88         916.0  10.41            6   \n",
       "\n",
       "    FL    PPR  \n",
       "7    1  254.3  \n",
       "12   1  207.2  \n",
       "15   0  222.5  \n",
       "18   1  221.0  \n",
       "21   1  215.6  "
      ]
     },
     "execution_count": 90,
     "metadata": {},
     "output_type": "execute_result"
    }
   ],
   "source": [
    "df_rb = transform_columns(df_rb, rushing_col + receiving_col)\n",
    "df_qb = transform_columns(df_qb, passing_col + rushing_col)\n",
    "df_wr = transform_columns(df_wr, receiving_col)\n",
    "df_te = transform_columns(df_te, receiving_col)\n",
    "dfs = [df_rb, df_qb, df_wr, df_te]\n",
    "df_te.head()"
   ]
  },
  {
   "cell_type": "code",
   "execution_count": 91,
   "metadata": {},
   "outputs": [],
   "source": [
    "for x in dfs:\n",
    "    x['FantasyPoints/GM'] = x['PPR']/x['G']\n",
    "\n",
    "df_wr['Usage/GM'] = df_wr['Tgt']/df_wr['G']\n",
    "df_rb['Usage/GM'] = (df_rb['Tgt'] + df_rb['RushingAtt'])/df_rb['G']\n",
    "df_te['Usage/GM'] = df_te['Tgt']/df_te['G']"
   ]
  },
  {
   "cell_type": "code",
   "execution_count": 95,
   "metadata": {},
   "outputs": [
    {
     "data": {
      "image/png": "[encoded data removed]",
      "text/plain": [
       "<Figure size 1152x576 with 1 Axes>"
      ]
     },
     "metadata": {},
     "output_type": "display_data"
    }
   ],
   "source": [
    "sns.set_style('whitegrid')\n",
    "fig, ax = plt.subplots()\n",
    "fig.set_size_inches(16, 8)\n",
    "\n",
    "plot = sns.regplot(\n",
    "    x=df_wr['Age'],\n",
    "    y=df_wr['FantasyPoints/GM'],\n",
    "    scatter=True,\n",
    ")"
   ]
  },
  {
   "cell_type": "code",
   "execution_count": null,
   "metadata": {},
   "outputs": [],
   "source": []
  }
 ],
 "metadata": {
  "kernelspec": {
   "display_name": "Python 3",
   "language": "python",
   "name": "python3"
  },
  "language_info": {
   "codemirror_mode": {
    "name": "ipython",
    "version": 3
   },
   "file_extension": ".py",
   "mimetype": "text/x-python",
   "name": "python",
   "nbconvert_exporter": "python",
   "pygments_lexer": "ipython3",
   "version": "3.8.3"
  }
 },
 "nbformat": 4,
 "nbformat_minor": 4
}
